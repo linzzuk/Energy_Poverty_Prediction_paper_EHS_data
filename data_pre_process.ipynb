{
 "cells": [
  {
   "cell_type": "markdown",
   "metadata": {},
   "source": [
    "# Introduction\n",
    "\n",
    "this is data preprocess for English Housing Survey free access datasets, download address: \n",
    "\n",
    "(1) Fuel poverty dataset 2021 : https://beta.ukdataservice.ac.uk/datacatalogue/studies/study?id=9243\n",
    "\n",
    "(2) English Housing Survey, 2021-2022: Household Data: https://beta.ukdataservice.ac.uk/datacatalogue/studies/study?id=9230\n",
    "\n",
    "these datasets contains fuel poverty indicators: 10% (before and after housing cost), LILEE, so we need to calculate LIHC if needed\n"
   ]
  },
  {
   "cell_type": "code",
   "execution_count": 2,
   "metadata": {},
   "outputs": [],
   "source": [
    "#  neccessary libraries\n",
    "import pandas as pd\n",
    "import numpy as np\n",
    "import matplotlib.pyplot as plt\n",
    "import seaborn as sns\n",
    "\n",
    "from sklearn.preprocessing import StandardScaler\n",
    "from sklearn.utils import resample"
   ]
  },
  {
   "cell_type": "code",
   "execution_count": 2,
   "metadata": {},
   "outputs": [],
   "source": [
    "# import 2021 fuel poverty datasets\n",
    "df_ep = pd.read_csv('./raw_data_EHS/fuel_poverty_2021_ukda_eul.csv')"
   ]
  },
  {
   "cell_type": "code",
   "execution_count": 3,
   "metadata": {},
   "outputs": [],
   "source": [
    "# import housing stock datasets\n",
    "df_general_plus = pd.read_csv('./raw_data_EHS/general20_plus_21_eul.csv')\n",
    "df_interview_plus = pd.read_csv('./raw_data_EHS/interview_20_plus_21_eul.csv')\n",
    "df_house_quality = pd.read_csv('./raw_data_EHS/modelled_housing_quality_variables_20_plus_21_eul.csv')\n",
    "df_physical = pd.read_csv('./raw_data_EHS/physical_20_plus_21_eul.csv')"
   ]
  },
  {
   "cell_type": "code",
   "execution_count": 4,
   "metadata": {},
   "outputs": [
    {
     "name": "stdout",
     "output_type": "stream",
     "text": [
      "datasets EHS from 2021 Fuel Poverty data\n",
      "fuel poverty dataset (10572, 48)\n",
      "--------------------------------------------------\n",
      "datasets EHS from 2021 housing stock data\n",
      "(10572, 10)\n",
      "(10572, 73)\n",
      "(10572, 5)\n",
      "(10572, 48)\n"
     ]
    }
   ],
   "source": [
    "# check the shape of the datasets\n",
    "print(\"datasets EHS from 2021 Fuel Poverty data\")\n",
    "print(f'fuel poverty dataset {df_ep.shape}')\n",
    "print(\"-\"*50)\n",
    "print(\"datasets EHS from 2021 housing stock data\")\n",
    "print(df_general_plus.shape)\n",
    "print(df_interview_plus.shape)\n",
    "print(df_house_quality.shape)\n",
    "print(df_physical.shape)"
   ]
  },
  {
   "cell_type": "code",
   "execution_count": 5,
   "metadata": {},
   "outputs": [],
   "source": [
    "# check columns of the datasets and find proxy for census data and proxy for inputs used in the benchmark model"
   ]
  },
  {
   "cell_type": "code",
   "execution_count": 6,
   "metadata": {},
   "outputs": [
    {
     "data": {
      "text/plain": [
       "Index(['serialanon', 'fpLILEEflg', 'AHCIncomeEQ_LILEE', 'fpfullinc',\n",
       "       'fuelexpn', 'FuelCosteqFactor', 'EqAHCincDeciles_LILEE', 'elecmop',\n",
       "       'gasmop', 'aagph2021', 'FPGAP_LILEE', 'fpvuln', 'fpLILEEqdt',\n",
       "       'FPEERband', 'FPEERrating', 'DWtype', 'DWage', 'Ongas',\n",
       "       'CentralHeating', 'Mainfueltype', 'boiler', 'WallType', 'tenure4x',\n",
       "       'Loftins', 'EPC', 'SAP12', 'hhcompx', 'Ageyng', 'Ageold', 'Hhsize',\n",
       "       'ethhrp2x', 'Hhsick', 'Unoc', 'emphrp3x', 'ECO_AW', 'FloorArea',\n",
       "       'gorehs', 'HTHG', 'WHDBroad', 'HousingCosts', 'fpbasinc', 'wathcost',\n",
       "       'spahcost', 'litecost', 'cookcost', 'BHCflg10', 'AHCflg10',\n",
       "       'FullincDeciles'],\n",
       "      dtype='object')"
      ]
     },
     "execution_count": 6,
     "metadata": {},
     "output_type": "execute_result"
    }
   ],
   "source": [
    "df_ep.columns"
   ]
  },
  {
   "cell_type": "code",
   "execution_count": 7,
   "metadata": {},
   "outputs": [],
   "source": [
    "# rename duplicate columns in other datasets\n",
    "df_ep.rename(columns={'tenure4x': 'tenure4x_fp'}, inplace=True) # tenure4x is a duplicate column in the general dataset, rename to tenure4x_fp means this column is specific to the fuel poverty dataset is from the fuel poverty dataset"
   ]
  },
  {
   "cell_type": "code",
   "execution_count": 8,
   "metadata": {},
   "outputs": [
    {
     "data": {
      "text/plain": [
       "Index(['serialanon', 'aagpd2021', 'aagph2021', 'tenure8x', 'tenure4x',\n",
       "       'tenure2x', 'vacantx', 'gorehs', 'region3x', 'govreg1'],\n",
       "      dtype='object')"
      ]
     },
     "execution_count": 8,
     "metadata": {},
     "output_type": "execute_result"
    }
   ],
   "source": [
    "df_general_plus.columns"
   ]
  },
  {
   "cell_type": "code",
   "execution_count": 9,
   "metadata": {},
   "outputs": [
    {
     "name": "stdout",
     "output_type": "stream",
     "text": [
      "<class 'pandas.core.frame.DataFrame'>\n",
      "RangeIndex: 10572 entries, 0 to 10571\n",
      "Data columns (total 10 columns):\n",
      " #   Column      Non-Null Count  Dtype\n",
      "---  ------      --------------  -----\n",
      " 0   serialanon  10572 non-null  int64\n",
      " 1   aagpd2021   10572 non-null  int64\n",
      " 2   aagph2021   10572 non-null  int64\n",
      " 3   tenure8x    10572 non-null  int64\n",
      " 4   tenure4x    10572 non-null  int64\n",
      " 5   tenure2x    10572 non-null  int64\n",
      " 6   vacantx     10572 non-null  int64\n",
      " 7   gorehs      10572 non-null  int64\n",
      " 8   region3x    10572 non-null  int64\n",
      " 9   govreg1     10572 non-null  int64\n",
      "dtypes: int64(10)\n",
      "memory usage: 826.1 KB\n"
     ]
    }
   ],
   "source": [
    "df_general_plus.info()"
   ]
  },
  {
   "cell_type": "code",
   "execution_count": 10,
   "metadata": {},
   "outputs": [
    {
     "data": {
      "text/plain": [
       "Index(['serialanon', 'hhcompx', 'hhcomp1', 'hhtype11', 'hhtype7', 'hhtype6',\n",
       "       'hhsizex', 'ndepchild', 'noUnits1', 'sft', 'agehrp2x', 'agehrp4x',\n",
       "       'agehrp6x', 'agepart6x', 'ager', 'pyngbx', 'ageoldbx', 'emphrpx',\n",
       "       'emphrp3x', 'nssech9', 'nssecp9', 'hhempx', 'empprtx', 'empprt3x',\n",
       "       'workless', 'atspahrp', 'atspaprt', 'atspaany', 'ethhrp2x', 'ethprt2x',\n",
       "       'sexhrp', 'freeLeas', 'owntype', 'hatentp3', 'srtentype2', 'bedstdx',\n",
       "       'nbedsx', 'bedrqx', 'lharqx', 'lhastdx', 'nrooms1a', 'sharer',\n",
       "       'accomhh1', 'lenresb', 'lenownb', 'ftbuyer', 'prevten', 'tenex',\n",
       "       'tenure2', 'tenure4', 'hhltsick', 'hhwhch', 'mortwkx', 'rentwkx',\n",
       "       'rentExS', 'hhincx', 'hhinc5x', 'amthbenx', 'housbenx', 'hhbensx',\n",
       "       'JOINTINCx', 'ALLincx', 'HYEARGRx', 'hhvulx', 'market_rent', 'equityr',\n",
       "       'equityr5', 'BHCinceq', 'BHCinceqv5', 'BHCinceqv60h', 'AHCinceq',\n",
       "       'AHCinceqv5', 'AHCinceqv60h'],\n",
       "      dtype='object')"
      ]
     },
     "execution_count": 10,
     "metadata": {},
     "output_type": "execute_result"
    }
   ],
   "source": [
    "df_interview_plus.columns"
   ]
  },
  {
   "cell_type": "code",
   "execution_count": 11,
   "metadata": {},
   "outputs": [
    {
     "data": {
      "text/plain": [
       "Index(['serialanon', 'dampalfm', 'dhhhsrsym', 'dhomeszm', 'dhcostzm'], dtype='object')"
      ]
     },
     "execution_count": 11,
     "metadata": {},
     "output_type": "execute_result"
    }
   ],
   "source": [
    "df_house_quality.columns"
   ]
  },
  {
   "cell_type": "code",
   "execution_count": 12,
   "metadata": {},
   "outputs": [
    {
     "data": {
      "text/plain": [
       "Index(['serialanon', 'dwtypenx', 'dwtype8x', 'dwtype3x', 'housex', 'dwage7x',\n",
       "       'dwage6x', 'dwage5x', 'dwage4x', 'alltypex', 'floorx', 'floor5x',\n",
       "       'floory', 'floor5y', 'storeyx', 'dblglaz2', 'dblglaz4', 'parking',\n",
       "       'neivisx', 'lv1upkpx', 'lv2trafx', 'lv3utilx', 'lvnumx', 'lvanyx',\n",
       "       'attic', 'heat4x', 'heat7x', 'sysage', 'fuelx', 'watersys', 'boiler',\n",
       "       'mainsgas', 'watercyl', 'loftinsx', 'loftins4', 'loftins6', 'loftinsu',\n",
       "       'loftu4', 'wallinsz', 'wallcavy', 'pcavwallx', 'wins95x', 'sap12',\n",
       "       'sap412', 'rdsap09', 'EPceeb12e', 'EPceir12e', 'EPceib12e'],\n",
       "      dtype='object')"
      ]
     },
     "execution_count": 12,
     "metadata": {},
     "output_type": "execute_result"
    }
   ],
   "source": [
    "df_physical.columns"
   ]
  },
  {
   "cell_type": "code",
   "execution_count": 13,
   "metadata": {},
   "outputs": [
    {
     "name": "stdout",
     "output_type": "stream",
     "text": [
      "Shape of the merged dataframe: (10572, 180)\n"
     ]
    }
   ],
   "source": [
    "# Merge the all dataframes on the common columns,\n",
    "df = pd.merge(df_ep, df_general_plus, on='serialanon', how='right')\n",
    "df2 = pd.merge(df, df_interview_plus, on='serialanon', how='right')\n",
    "df3 = pd.merge(df2, df_house_quality, on='serialanon', how='right')\n",
    "df_merge = pd.merge(df3, df_physical, on='serialanon', how='right')\n",
    "\n",
    "# Print the shape of the merged dataframe\n",
    "print(\"Shape of the merged dataframe:\", df_merge.shape)"
   ]
  },
  {
   "cell_type": "code",
   "execution_count": 14,
   "metadata": {},
   "outputs": [],
   "source": [
    "# select proxy census variable and other proxy input variables used in benchmark model\n",
    "\n",
    "# list_proxy_census = []\n",
    "\n",
    "# list_proxy_inputs_br = []"
   ]
  },
  {
   "cell_type": "code",
   "execution_count": 15,
   "metadata": {},
   "outputs": [],
   "source": [
    "# so we have a comprehensive dataset that contain 180 variables\n",
    "# copy the dataset\n",
    "df_clean = df_merge.copy()"
   ]
  },
  {
   "cell_type": "markdown",
   "metadata": {},
   "source": [
    "## Calculate LIHC indicator"
   ]
  },
  {
   "cell_type": "code",
   "execution_count": 16,
   "metadata": {},
   "outputs": [],
   "source": [
    "# calculate Low Income High Cost indicator\n",
    "# https://assets.publishing.service.gov.uk/media/603fcdaee90e077dd08f15e6/Fuel_Poverty_Methodology_Handbook_2020_LIHC.pdf page 63-64\n",
    "df_clean = df_clean.copy()\n",
    "df_clean['Equivalised fuel costs'] = df_clean['fuelexpn'] / df_clean['FuelCosteqFactor'] \n",
    "df_clean['Equivalised AHC income'] = df_clean['AHCIncomeEQ_LILEE']\n",
    "\n",
    "# for this dataset, the cost threshold and income threshold are below:\n",
    "Median_equivalised_fuel_costs_threshold = df_clean['Equivalised fuel costs'].median()\n",
    "\n",
    "equivalised_AHC_median_income_threshold = 0.6*df_clean['Equivalised AHC income'].median()\n",
    "df_clean['household_income_threshold'] = df_clean['Equivalised fuel costs'] + equivalised_AHC_median_income_threshold # 0.6*median + fuel cost\n",
    "\n",
    "# here, we define the energy poverty by Low Income High Cost indocator\n",
    "df_clean['fpLIHCflg'] = np.where((df_clean['Equivalised fuel costs'] > Median_equivalised_fuel_costs_threshold) \n",
    "                                  & (df_clean['Equivalised AHC income'] < df_clean['household_income_threshold']), 1, 0)"
   ]
  },
  {
   "cell_type": "code",
   "execution_count": 19,
   "metadata": {},
   "outputs": [],
   "source": [
    "# save the dataset for model development\n",
    "df_clean = df_clean.drop(columns=['serialanon'])\n",
    "df_clean.to_csv('clean_data.csv', index=False)"
   ]
  },
  {
   "cell_type": "markdown",
   "metadata": {},
   "source": [
    "# Exploratory data analysis"
   ]
  },
  {
   "cell_type": "code",
   "execution_count": null,
   "metadata": {},
   "outputs": [],
   "source": [
    "df_EDA = pd.read_csv('clean_data.csv')"
   ]
  },
  {
   "cell_type": "code",
   "execution_count": 6,
   "metadata": {},
   "outputs": [],
   "source": [
    "df = df_EDA.copy()"
   ]
  },
  {
   "cell_type": "code",
   "execution_count": 7,
   "metadata": {},
   "outputs": [
    {
     "data": {
      "image/png": "[encoded data removed]",
      "text/plain": [
       "<Figure size 600x400 with 1 Axes>"
      ]
     },
     "metadata": {},
     "output_type": "display_data"
    },
    {
     "name": "stdout",
     "output_type": "stream",
     "text": [
      "Percentage of Energy Poor Households: 13.55%\n"
     ]
    }
   ],
   "source": [
    "# Target Variable Distribution (Energy Poverty Status)\n",
    "\n",
    "# Set figure size\n",
    "plt.figure(figsize=(6, 4))\n",
    "\n",
    "# Countplot for energy poverty status\n",
    "sns.countplot(x='fpLIHCflg', data=df, palette=\"Set2\")\n",
    "\n",
    "# Add labels\n",
    "plt.title('Distribution of Energy Poverty Labels')\n",
    "plt.xlabel('Energy Poverty Status (0: Not Energy Poor, 1: Energy Poor)')\n",
    "plt.ylabel('Count')\n",
    "\n",
    "# Show plot\n",
    "plt.show()\n",
    "\n",
    "# Compute percentage of energy-poor households\n",
    "poverty_rate = df['fpLIHCflg'].mean() * 100\n",
    "print(f\"Percentage of Energy Poor Households: {poverty_rate:.2f}%\")\n"
   ]
  }
 ],
 "metadata": {
  "kernelspec": {
   "display_name": "base",
   "language": "python",
   "name": "python3"
  },
  "language_info": {
   "codemirror_mode": {
    "name": "ipython",
    "version": 3
   },
   "file_extension": ".py",
   "mimetype": "text/x-python",
   "name": "python",
   "nbconvert_exporter": "python",
   "pygments_lexer": "ipython3",
   "version": "3.11.7"
  }
 },
 "nbformat": 4,
 "nbformat_minor": 2
}
